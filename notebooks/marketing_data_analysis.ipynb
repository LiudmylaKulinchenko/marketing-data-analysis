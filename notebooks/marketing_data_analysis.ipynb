{
 "cells": [
  {
   "cell_type": "markdown",
   "id": "77fe6882-a812-489d-97e5-5f19f3044011",
   "metadata": {},
   "source": [
    "# PART 1 - Analysis (Excel)"
   ]
  },
  {
   "cell_type": "markdown",
   "id": "4d3171c0-19ac-497f-a3a8-bea0274f5a01",
   "metadata": {},
   "source": [
    "## Import necessary libraries"
   ]
  },
  {
   "cell_type": "code",
   "execution_count": 61,
   "id": "47341a72-1d9b-47b7-a5c3-86568743589c",
   "metadata": {},
   "outputs": [],
   "source": [
    "import pandas as pd"
   ]
  },
  {
   "cell_type": "markdown",
   "id": "7d4e74ab-9a9e-4d7a-8287-3c806bbee6da",
   "metadata": {},
   "source": [
    "## Import Data from Excel file"
   ]
  },
  {
   "cell_type": "code",
   "execution_count": 86,
   "id": "36e005f6-00ee-469f-afa6-7d2c984776e7",
   "metadata": {},
   "outputs": [
    {
     "data": {
      "text/html": [
       "<div>\n",
       "<style scoped>\n",
       "    .dataframe tbody tr th:only-of-type {\n",
       "        vertical-align: middle;\n",
       "    }\n",
       "\n",
       "    .dataframe tbody tr th {\n",
       "        vertical-align: top;\n",
       "    }\n",
       "\n",
       "    .dataframe thead th {\n",
       "        text-align: right;\n",
       "    }\n",
       "</style>\n",
       "<table border=\"1\" class=\"dataframe\">\n",
       "  <thead>\n",
       "    <tr style=\"text-align: right;\">\n",
       "      <th></th>\n",
       "      <th>Date</th>\n",
       "      <th>Time</th>\n",
       "      <th>Order ID</th>\n",
       "      <th>Customer ID</th>\n",
       "      <th>Coupon Code</th>\n",
       "      <th>Country</th>\n",
       "      <th>Total</th>\n",
       "    </tr>\n",
       "  </thead>\n",
       "  <tbody>\n",
       "    <tr>\n",
       "      <th>0</th>\n",
       "      <td>2020-10-01</td>\n",
       "      <td>11:52:28</td>\n",
       "      <td>199652320</td>\n",
       "      <td>69987.0</td>\n",
       "      <td>NaN</td>\n",
       "      <td>CA</td>\n",
       "      <td>51.55</td>\n",
       "    </tr>\n",
       "    <tr>\n",
       "      <th>1</th>\n",
       "      <td>2020-10-01</td>\n",
       "      <td>11:54:52</td>\n",
       "      <td>199652339</td>\n",
       "      <td>56440.0</td>\n",
       "      <td>NaN</td>\n",
       "      <td>US</td>\n",
       "      <td>50.55</td>\n",
       "    </tr>\n",
       "    <tr>\n",
       "      <th>2</th>\n",
       "      <td>2020-10-01</td>\n",
       "      <td>11:57:14</td>\n",
       "      <td>199652338</td>\n",
       "      <td>77646.0</td>\n",
       "      <td>NaN</td>\n",
       "      <td>US</td>\n",
       "      <td>55.07</td>\n",
       "    </tr>\n",
       "    <tr>\n",
       "      <th>3</th>\n",
       "      <td>2020-10-01</td>\n",
       "      <td>11:59:26</td>\n",
       "      <td>199652344</td>\n",
       "      <td>6041.0</td>\n",
       "      <td>NaN</td>\n",
       "      <td>US</td>\n",
       "      <td>91.20</td>\n",
       "    </tr>\n",
       "    <tr>\n",
       "      <th>4</th>\n",
       "      <td>2020-10-01</td>\n",
       "      <td>12:01:58</td>\n",
       "      <td>199625188-1</td>\n",
       "      <td>43125.0</td>\n",
       "      <td>NaN</td>\n",
       "      <td>US</td>\n",
       "      <td>59.19</td>\n",
       "    </tr>\n",
       "    <tr>\n",
       "      <th>...</th>\n",
       "      <td>...</td>\n",
       "      <td>...</td>\n",
       "      <td>...</td>\n",
       "      <td>...</td>\n",
       "      <td>...</td>\n",
       "      <td>...</td>\n",
       "      <td>...</td>\n",
       "    </tr>\n",
       "    <tr>\n",
       "      <th>64279</th>\n",
       "      <td>2020-11-30</td>\n",
       "      <td>23:34:19</td>\n",
       "      <td>199780389</td>\n",
       "      <td>81869.0</td>\n",
       "      <td>NaN</td>\n",
       "      <td>US</td>\n",
       "      <td>55.56</td>\n",
       "    </tr>\n",
       "    <tr>\n",
       "      <th>64280</th>\n",
       "      <td>2020-11-30</td>\n",
       "      <td>23:40:13</td>\n",
       "      <td>199780382</td>\n",
       "      <td>64591.0</td>\n",
       "      <td>5AFG</td>\n",
       "      <td>US</td>\n",
       "      <td>9.66</td>\n",
       "    </tr>\n",
       "    <tr>\n",
       "      <th>64281</th>\n",
       "      <td>2020-11-30</td>\n",
       "      <td>23:40:32</td>\n",
       "      <td>199780383</td>\n",
       "      <td>27503.0</td>\n",
       "      <td>NaN</td>\n",
       "      <td>US</td>\n",
       "      <td>90.55</td>\n",
       "    </tr>\n",
       "    <tr>\n",
       "      <th>64282</th>\n",
       "      <td>2020-11-30</td>\n",
       "      <td>23:43:24</td>\n",
       "      <td>199780385</td>\n",
       "      <td>95286.0</td>\n",
       "      <td>NaN</td>\n",
       "      <td>US</td>\n",
       "      <td>52.51</td>\n",
       "    </tr>\n",
       "    <tr>\n",
       "      <th>64283</th>\n",
       "      <td>2020-11-30</td>\n",
       "      <td>23:49:55</td>\n",
       "      <td>199780388</td>\n",
       "      <td>51538.0</td>\n",
       "      <td>BARA</td>\n",
       "      <td>US</td>\n",
       "      <td>15.17</td>\n",
       "    </tr>\n",
       "  </tbody>\n",
       "</table>\n",
       "<p>64284 rows × 7 columns</p>\n",
       "</div>"
      ],
      "text/plain": [
       "            Date      Time     Order ID  Customer ID Coupon Code Country  \\\n",
       "0     2020-10-01  11:52:28    199652320      69987.0         NaN      CA   \n",
       "1     2020-10-01  11:54:52    199652339      56440.0         NaN      US   \n",
       "2     2020-10-01  11:57:14    199652338      77646.0         NaN      US   \n",
       "3     2020-10-01  11:59:26    199652344       6041.0         NaN      US   \n",
       "4     2020-10-01  12:01:58  199625188-1      43125.0         NaN      US   \n",
       "...          ...       ...          ...          ...         ...     ...   \n",
       "64279 2020-11-30  23:34:19    199780389      81869.0         NaN      US   \n",
       "64280 2020-11-30  23:40:13    199780382      64591.0        5AFG      US   \n",
       "64281 2020-11-30  23:40:32    199780383      27503.0         NaN      US   \n",
       "64282 2020-11-30  23:43:24    199780385      95286.0         NaN      US   \n",
       "64283 2020-11-30  23:49:55    199780388      51538.0        BARA      US   \n",
       "\n",
       "       Total  \n",
       "0      51.55  \n",
       "1      50.55  \n",
       "2      55.07  \n",
       "3      91.20  \n",
       "4      59.19  \n",
       "...      ...  \n",
       "64279  55.56  \n",
       "64280   9.66  \n",
       "64281  90.55  \n",
       "64282  52.51  \n",
       "64283  15.17  \n",
       "\n",
       "[64284 rows x 7 columns]"
      ]
     },
     "execution_count": 86,
     "metadata": {},
     "output_type": "execute_result"
    }
   ],
   "source": [
    "df = pd.read_excel(\"../data/marketing_raw_data.xlsx\")\n",
    "\n",
    "df"
   ]
  },
  {
   "cell_type": "markdown",
   "id": "4f62d175-502f-4d1a-972b-5f021daa1a34",
   "metadata": {},
   "source": [
    "## 1. Check the database in the attached Excel file for errors. If error found, write down what changed and why"
   ]
  },
  {
   "cell_type": "code",
   "execution_count": 99,
   "id": "cc9526f7-f194-4188-ba6c-ebd39f5b2254",
   "metadata": {
    "scrolled": true
   },
   "outputs": [
    {
     "name": "stdout",
     "output_type": "stream",
     "text": [
      "<class 'pandas.core.frame.DataFrame'>\n",
      "Index: 64280 entries, 0 to 64283\n",
      "Data columns (total 7 columns):\n",
      " #   Column       Non-Null Count  Dtype         \n",
      "---  ------       --------------  -----         \n",
      " 0   Date         64280 non-null  datetime64[ns]\n",
      " 1   Time         64280 non-null  object        \n",
      " 2   Order ID     64279 non-null  object        \n",
      " 3   Customer ID  64279 non-null  float64       \n",
      " 4   Coupon Code  6244 non-null   object        \n",
      " 5   Country      64280 non-null  object        \n",
      " 6   Total        64280 non-null  float64       \n",
      "dtypes: datetime64[ns](1), float64(2), object(4)\n",
      "memory usage: 3.9+ MB\n"
     ]
    }
   ],
   "source": [
    "df.info()"
   ]
  },
  {
   "cell_type": "markdown",
   "id": "dd0e5fdf-2461-421a-89a8-f989b8ba1dc7",
   "metadata": {},
   "source": [
    "### Error: NaN value for Order ID and for Client ID\n",
    "From dataframe info we can see, that there is one NaN value for Order ID and for Client ID. I've found out this values are from the one record. First option could be to add sample ids. In this case, I'll delete this record, since it won't make a big difference in analysis and this record could be some system bag."
   ]
  },
  {
   "cell_type": "code",
   "execution_count": 100,
   "id": "c6f21188-76dd-4129-85dc-6ce6c0f945fc",
   "metadata": {},
   "outputs": [],
   "source": [
    "df = df.dropna(subset=\"Order ID\")"
   ]
  },
  {
   "cell_type": "code",
   "execution_count": 101,
   "id": "c7c1084d-2c42-48ab-b907-44df485b0f38",
   "metadata": {},
   "outputs": [
    {
     "data": {
      "text/html": [
       "<div>\n",
       "<style scoped>\n",
       "    .dataframe tbody tr th:only-of-type {\n",
       "        vertical-align: middle;\n",
       "    }\n",
       "\n",
       "    .dataframe tbody tr th {\n",
       "        vertical-align: top;\n",
       "    }\n",
       "\n",
       "    .dataframe thead th {\n",
       "        text-align: right;\n",
       "    }\n",
       "</style>\n",
       "<table border=\"1\" class=\"dataframe\">\n",
       "  <thead>\n",
       "    <tr style=\"text-align: right;\">\n",
       "      <th></th>\n",
       "      <th>Date</th>\n",
       "      <th>Customer ID</th>\n",
       "      <th>Total</th>\n",
       "    </tr>\n",
       "  </thead>\n",
       "  <tbody>\n",
       "    <tr>\n",
       "      <th>count</th>\n",
       "      <td>64279</td>\n",
       "      <td>64279.000000</td>\n",
       "      <td>64279.000000</td>\n",
       "    </tr>\n",
       "    <tr>\n",
       "      <th>mean</th>\n",
       "      <td>2020-11-02 10:34:52.938595840</td>\n",
       "      <td>48459.887148</td>\n",
       "      <td>57.559318</td>\n",
       "    </tr>\n",
       "    <tr>\n",
       "      <th>min</th>\n",
       "      <td>2019-10-01 00:00:00</td>\n",
       "      <td>1.000000</td>\n",
       "      <td>-52.950000</td>\n",
       "    </tr>\n",
       "    <tr>\n",
       "      <th>25%</th>\n",
       "      <td>2020-10-20 00:00:00</td>\n",
       "      <td>24313.500000</td>\n",
       "      <td>52.060000</td>\n",
       "    </tr>\n",
       "    <tr>\n",
       "      <th>50%</th>\n",
       "      <td>2020-11-05 00:00:00</td>\n",
       "      <td>48685.000000</td>\n",
       "      <td>55.050000</td>\n",
       "    </tr>\n",
       "    <tr>\n",
       "      <th>75%</th>\n",
       "      <td>2020-11-16 00:00:00</td>\n",
       "      <td>72487.500000</td>\n",
       "      <td>59.000000</td>\n",
       "    </tr>\n",
       "    <tr>\n",
       "      <th>max</th>\n",
       "      <td>2020-11-30 00:00:00</td>\n",
       "      <td>96444.000000</td>\n",
       "      <td>1170.000000</td>\n",
       "    </tr>\n",
       "    <tr>\n",
       "      <th>std</th>\n",
       "      <td>NaN</td>\n",
       "      <td>27810.893535</td>\n",
       "      <td>22.608324</td>\n",
       "    </tr>\n",
       "  </tbody>\n",
       "</table>\n",
       "</div>"
      ],
      "text/plain": [
       "                                Date   Customer ID         Total\n",
       "count                          64279  64279.000000  64279.000000\n",
       "mean   2020-11-02 10:34:52.938595840  48459.887148     57.559318\n",
       "min              2019-10-01 00:00:00      1.000000    -52.950000\n",
       "25%              2020-10-20 00:00:00  24313.500000     52.060000\n",
       "50%              2020-11-05 00:00:00  48685.000000     55.050000\n",
       "75%              2020-11-16 00:00:00  72487.500000     59.000000\n",
       "max              2020-11-30 00:00:00  96444.000000   1170.000000\n",
       "std                              NaN  27810.893535     22.608324"
      ]
     },
     "execution_count": 101,
     "metadata": {},
     "output_type": "execute_result"
    }
   ],
   "source": [
    "df.describe()"
   ]
  },
  {
   "cell_type": "code",
   "execution_count": 102,
   "id": "fd923889-c936-4cae-8bae-daf656439a96",
   "metadata": {},
   "outputs": [
    {
     "data": {
      "text/html": [
       "<div>\n",
       "<style scoped>\n",
       "    .dataframe tbody tr th:only-of-type {\n",
       "        vertical-align: middle;\n",
       "    }\n",
       "\n",
       "    .dataframe tbody tr th {\n",
       "        vertical-align: top;\n",
       "    }\n",
       "\n",
       "    .dataframe thead th {\n",
       "        text-align: right;\n",
       "    }\n",
       "</style>\n",
       "<table border=\"1\" class=\"dataframe\">\n",
       "  <thead>\n",
       "    <tr style=\"text-align: right;\">\n",
       "      <th></th>\n",
       "      <th>Date</th>\n",
       "      <th>Time</th>\n",
       "      <th>Order ID</th>\n",
       "      <th>Customer ID</th>\n",
       "      <th>Coupon Code</th>\n",
       "      <th>Country</th>\n",
       "      <th>Total</th>\n",
       "    </tr>\n",
       "  </thead>\n",
       "  <tbody>\n",
       "    <tr>\n",
       "      <th>30947</th>\n",
       "      <td>2020-11-04</td>\n",
       "      <td>17:02:47</td>\n",
       "      <td>199862386</td>\n",
       "      <td>31810.0</td>\n",
       "      <td>NaN</td>\n",
       "      <td>US</td>\n",
       "      <td>-52.95</td>\n",
       "    </tr>\n",
       "  </tbody>\n",
       "</table>\n",
       "</div>"
      ],
      "text/plain": [
       "            Date      Time   Order ID  Customer ID Coupon Code Country  Total\n",
       "30947 2020-11-04  17:02:47  199862386      31810.0         NaN      US -52.95"
      ]
     },
     "execution_count": 102,
     "metadata": {},
     "output_type": "execute_result"
    }
   ],
   "source": [
    "df[df[\"Total\"] < 0]"
   ]
  },
  {
   "cell_type": "markdown",
   "id": "5b6e1628-8230-4afc-9e9a-2da5d2eaab96",
   "metadata": {},
   "source": [
    "### Error: negative value in Total column\n",
    "\n",
    "There is negative value in Total column. I suggest, it was a mistake and the value should be positive."
   ]
  },
  {
   "cell_type": "code",
   "execution_count": 103,
   "id": "68cd3843-2d88-457b-aeb9-eeea7e0d7db3",
   "metadata": {},
   "outputs": [
    {
     "data": {
      "text/html": [
       "<div>\n",
       "<style scoped>\n",
       "    .dataframe tbody tr th:only-of-type {\n",
       "        vertical-align: middle;\n",
       "    }\n",
       "\n",
       "    .dataframe tbody tr th {\n",
       "        vertical-align: top;\n",
       "    }\n",
       "\n",
       "    .dataframe thead th {\n",
       "        text-align: right;\n",
       "    }\n",
       "</style>\n",
       "<table border=\"1\" class=\"dataframe\">\n",
       "  <thead>\n",
       "    <tr style=\"text-align: right;\">\n",
       "      <th></th>\n",
       "      <th>Date</th>\n",
       "      <th>Customer ID</th>\n",
       "      <th>Total</th>\n",
       "    </tr>\n",
       "  </thead>\n",
       "  <tbody>\n",
       "    <tr>\n",
       "      <th>count</th>\n",
       "      <td>64279</td>\n",
       "      <td>64279.000000</td>\n",
       "      <td>64279.000000</td>\n",
       "    </tr>\n",
       "    <tr>\n",
       "      <th>mean</th>\n",
       "      <td>2020-11-02 10:34:52.938595840</td>\n",
       "      <td>48459.887148</td>\n",
       "      <td>57.560966</td>\n",
       "    </tr>\n",
       "    <tr>\n",
       "      <th>min</th>\n",
       "      <td>2019-10-01 00:00:00</td>\n",
       "      <td>1.000000</td>\n",
       "      <td>0.000000</td>\n",
       "    </tr>\n",
       "    <tr>\n",
       "      <th>25%</th>\n",
       "      <td>2020-10-20 00:00:00</td>\n",
       "      <td>24313.500000</td>\n",
       "      <td>52.060000</td>\n",
       "    </tr>\n",
       "    <tr>\n",
       "      <th>50%</th>\n",
       "      <td>2020-11-05 00:00:00</td>\n",
       "      <td>48685.000000</td>\n",
       "      <td>55.050000</td>\n",
       "    </tr>\n",
       "    <tr>\n",
       "      <th>75%</th>\n",
       "      <td>2020-11-16 00:00:00</td>\n",
       "      <td>72487.500000</td>\n",
       "      <td>59.000000</td>\n",
       "    </tr>\n",
       "    <tr>\n",
       "      <th>max</th>\n",
       "      <td>2020-11-30 00:00:00</td>\n",
       "      <td>96444.000000</td>\n",
       "      <td>1170.000000</td>\n",
       "    </tr>\n",
       "    <tr>\n",
       "      <th>std</th>\n",
       "      <td>NaN</td>\n",
       "      <td>27810.893535</td>\n",
       "      <td>22.604129</td>\n",
       "    </tr>\n",
       "  </tbody>\n",
       "</table>\n",
       "</div>"
      ],
      "text/plain": [
       "                                Date   Customer ID         Total\n",
       "count                          64279  64279.000000  64279.000000\n",
       "mean   2020-11-02 10:34:52.938595840  48459.887148     57.560966\n",
       "min              2019-10-01 00:00:00      1.000000      0.000000\n",
       "25%              2020-10-20 00:00:00  24313.500000     52.060000\n",
       "50%              2020-11-05 00:00:00  48685.000000     55.050000\n",
       "75%              2020-11-16 00:00:00  72487.500000     59.000000\n",
       "max              2020-11-30 00:00:00  96444.000000   1170.000000\n",
       "std                              NaN  27810.893535     22.604129"
      ]
     },
     "execution_count": 103,
     "metadata": {},
     "output_type": "execute_result"
    }
   ],
   "source": [
    "df.loc[:, \"Total\"] = df[\"Total\"].abs()\n",
    "\n",
    "df.describe()"
   ]
  },
  {
   "cell_type": "code",
   "execution_count": 172,
   "id": "2d83da01-16a0-43fb-826f-afbc982bb8dc",
   "metadata": {},
   "outputs": [
    {
     "data": {
      "text/html": [
       "<div>\n",
       "<style scoped>\n",
       "    .dataframe tbody tr th:only-of-type {\n",
       "        vertical-align: middle;\n",
       "    }\n",
       "\n",
       "    .dataframe tbody tr th {\n",
       "        vertical-align: top;\n",
       "    }\n",
       "\n",
       "    .dataframe thead th {\n",
       "        text-align: right;\n",
       "    }\n",
       "</style>\n",
       "<table border=\"1\" class=\"dataframe\">\n",
       "  <thead>\n",
       "    <tr style=\"text-align: right;\">\n",
       "      <th></th>\n",
       "      <th>Date</th>\n",
       "      <th>Time</th>\n",
       "      <th>Order ID</th>\n",
       "      <th>Customer ID</th>\n",
       "      <th>Coupon Code</th>\n",
       "      <th>Country</th>\n",
       "      <th>Total</th>\n",
       "      <th>Week</th>\n",
       "      <th>Is Exchanged</th>\n",
       "    </tr>\n",
       "  </thead>\n",
       "  <tbody>\n",
       "  </tbody>\n",
       "</table>\n",
       "</div>"
      ],
      "text/plain": [
       "Empty DataFrame\n",
       "Columns: [Date, Time, Order ID, Customer ID, Coupon Code, Country, Total, Week, Is Exchanged]\n",
       "Index: []"
      ]
     },
     "execution_count": 172,
     "metadata": {},
     "output_type": "execute_result"
    }
   ],
   "source": [
    "df[(df[\"Total\"] == 0) & (df[\"Coupon Code\"].isnull())]"
   ]
  },
  {
   "cell_type": "markdown",
   "id": "b7976a9a-f08a-45ac-9a7d-a0017b762c14",
   "metadata": {},
   "source": [
    "As we can see, there is no orders with zero total an no used coupon. That means, data from Totals column is correct"
   ]
  },
  {
   "cell_type": "code",
   "execution_count": 175,
   "id": "6edc66b4-7563-404f-ad79-f7c2dce9b5ca",
   "metadata": {},
   "outputs": [
    {
     "data": {
      "text/plain": [
       "['CA', 'US']\n",
       "Categories (2, object): ['CA', 'US']"
      ]
     },
     "execution_count": 175,
     "metadata": {},
     "output_type": "execute_result"
    }
   ],
   "source": [
    "# check if country names are consistent\n",
    "\n",
    "df[\"Country\"].unique()"
   ]
  },
  {
   "cell_type": "code",
   "execution_count": 106,
   "id": "adc6377d-b220-4a95-845d-ef304191bc15",
   "metadata": {},
   "outputs": [
    {
     "data": {
      "text/plain": [
       "True"
      ]
     },
     "execution_count": 106,
     "metadata": {},
     "output_type": "execute_result"
    }
   ],
   "source": [
    "df[\"Order ID\"].is_unique"
   ]
  },
  {
   "cell_type": "code",
   "execution_count": 107,
   "id": "01c13483-eec3-456c-9000-6b5f9c99186d",
   "metadata": {},
   "outputs": [
    {
     "data": {
      "text/html": [
       "<div>\n",
       "<style scoped>\n",
       "    .dataframe tbody tr th:only-of-type {\n",
       "        vertical-align: middle;\n",
       "    }\n",
       "\n",
       "    .dataframe tbody tr th {\n",
       "        vertical-align: top;\n",
       "    }\n",
       "\n",
       "    .dataframe thead th {\n",
       "        text-align: right;\n",
       "    }\n",
       "</style>\n",
       "<table border=\"1\" class=\"dataframe\">\n",
       "  <thead>\n",
       "    <tr style=\"text-align: right;\">\n",
       "      <th></th>\n",
       "      <th>Date</th>\n",
       "      <th>Time</th>\n",
       "      <th>Order ID</th>\n",
       "      <th>Customer ID</th>\n",
       "      <th>Coupon Code</th>\n",
       "      <th>Country</th>\n",
       "      <th>Total</th>\n",
       "    </tr>\n",
       "  </thead>\n",
       "  <tbody>\n",
       "  </tbody>\n",
       "</table>\n",
       "</div>"
      ],
      "text/plain": [
       "Empty DataFrame\n",
       "Columns: [Date, Time, Order ID, Customer ID, Coupon Code, Country, Total]\n",
       "Index: []"
      ]
     },
     "execution_count": 107,
     "metadata": {},
     "output_type": "execute_result"
    }
   ],
   "source": [
    "df[df[\"Order ID\"].duplicated(keep=False)]"
   ]
  },
  {
   "cell_type": "markdown",
   "id": "2f082676-3a74-4698-88d6-2238734a87a3",
   "metadata": {},
   "source": [
    "### Error: Order ID duplicates\n",
    "\n",
    "Order ID duplicates, which is not appropriate, since ids should be unique. This could suggest a potential issue, such as orders being recorded multiple times due to a system error or a data entry mistake. In this case, I'll keep first order id occurance, since all data, besides date, duplicates."
   ]
  },
  {
   "cell_type": "code",
   "execution_count": 108,
   "id": "4f1ccf1d-0279-4a09-b16a-c83eca276f7e",
   "metadata": {},
   "outputs": [
    {
     "data": {
      "text/html": [
       "<div>\n",
       "<style scoped>\n",
       "    .dataframe tbody tr th:only-of-type {\n",
       "        vertical-align: middle;\n",
       "    }\n",
       "\n",
       "    .dataframe tbody tr th {\n",
       "        vertical-align: top;\n",
       "    }\n",
       "\n",
       "    .dataframe thead th {\n",
       "        text-align: right;\n",
       "    }\n",
       "</style>\n",
       "<table border=\"1\" class=\"dataframe\">\n",
       "  <thead>\n",
       "    <tr style=\"text-align: right;\">\n",
       "      <th></th>\n",
       "      <th>Date</th>\n",
       "      <th>Time</th>\n",
       "      <th>Order ID</th>\n",
       "      <th>Customer ID</th>\n",
       "      <th>Coupon Code</th>\n",
       "      <th>Country</th>\n",
       "      <th>Total</th>\n",
       "    </tr>\n",
       "  </thead>\n",
       "  <tbody>\n",
       "  </tbody>\n",
       "</table>\n",
       "</div>"
      ],
      "text/plain": [
       "Empty DataFrame\n",
       "Columns: [Date, Time, Order ID, Customer ID, Coupon Code, Country, Total]\n",
       "Index: []"
      ]
     },
     "execution_count": 108,
     "metadata": {},
     "output_type": "execute_result"
    }
   ],
   "source": [
    "df = df.drop_duplicates(\"Order ID\", keep=\"first\")\n",
    "\n",
    "df[df[\"Order ID\"].duplicated(keep=False)]"
   ]
  },
  {
   "cell_type": "code",
   "execution_count": 109,
   "id": "6d8e9405-c532-4a7f-b534-d15dcba51d1e",
   "metadata": {},
   "outputs": [
    {
     "data": {
      "text/html": [
       "<div>\n",
       "<style scoped>\n",
       "    .dataframe tbody tr th:only-of-type {\n",
       "        vertical-align: middle;\n",
       "    }\n",
       "\n",
       "    .dataframe tbody tr th {\n",
       "        vertical-align: top;\n",
       "    }\n",
       "\n",
       "    .dataframe thead th {\n",
       "        text-align: right;\n",
       "    }\n",
       "</style>\n",
       "<table border=\"1\" class=\"dataframe\">\n",
       "  <thead>\n",
       "    <tr style=\"text-align: right;\">\n",
       "      <th></th>\n",
       "      <th>Date</th>\n",
       "      <th>Time</th>\n",
       "      <th>Order ID</th>\n",
       "      <th>Customer ID</th>\n",
       "      <th>Coupon Code</th>\n",
       "      <th>Country</th>\n",
       "      <th>Total</th>\n",
       "    </tr>\n",
       "  </thead>\n",
       "  <tbody>\n",
       "  </tbody>\n",
       "</table>\n",
       "</div>"
      ],
      "text/plain": [
       "Empty DataFrame\n",
       "Columns: [Date, Time, Order ID, Customer ID, Coupon Code, Country, Total]\n",
       "Index: []"
      ]
     },
     "execution_count": 109,
     "metadata": {},
     "output_type": "execute_result"
    }
   ],
   "source": [
    "df[df[\"Customer ID\"].apply(lambda x: x % 1 != 0)]"
   ]
  },
  {
   "cell_type": "markdown",
   "id": "84671fb8-a585-4d9f-9c82-3dcc5cfe8ce4",
   "metadata": {},
   "source": [
    "### Error (data type correction): Customer ID values are floats\n",
    "\n",
    "By the dataframe info and the last check, we can see that all Customer ID values are floats with only zeros after a coma. That means, we can change type for this column to int."
   ]
  },
  {
   "cell_type": "code",
   "execution_count": 180,
   "id": "f80f9d4d-5139-43ef-8f43-73696f4f8dbc",
   "metadata": {},
   "outputs": [
    {
     "name": "stdout",
     "output_type": "stream",
     "text": [
      "<class 'pandas.core.frame.DataFrame'>\n",
      "Index: 64279 entries, 0 to 64283\n",
      "Data columns (total 9 columns):\n",
      " #   Column        Non-Null Count  Dtype         \n",
      "---  ------        --------------  -----         \n",
      " 0   Date          64279 non-null  datetime64[ns]\n",
      " 1   Time          64279 non-null  object        \n",
      " 2   Order ID      64279 non-null  object        \n",
      " 3   Customer ID   64279 non-null  int32         \n",
      " 4   Coupon Code   6244 non-null   category      \n",
      " 5   Country       64279 non-null  category      \n",
      " 6   Total         64279 non-null  float32       \n",
      " 7   Week          64279 non-null  UInt32        \n",
      " 8   Is Exchanged  64279 non-null  int32         \n",
      "dtypes: UInt32(1), category(2), datetime64[ns](1), float32(1), int32(2), object(2)\n",
      "memory usage: 3.2+ MB\n"
     ]
    }
   ],
   "source": [
    "# change dataframe data types to move efficient and memoryusage-friendly\n",
    "\n",
    "df = df.astype({\n",
    "    \"Customer ID\": \"int\",\n",
    "    \"Order ID\": \"str\",\n",
    "    \"Coupon Code\": \"category\",\n",
    "    \"Country\": \"category\",\n",
    "    \"Total\": \"float32\"\n",
    "})\n",
    "\n",
    "df.info()"
   ]
  },
  {
   "cell_type": "code",
   "execution_count": 178,
   "id": "89a19cc2-df9e-4fd8-97d7-95dfba1dd513",
   "metadata": {},
   "outputs": [
    {
     "data": {
      "text/html": [
       "<div>\n",
       "<style scoped>\n",
       "    .dataframe tbody tr th:only-of-type {\n",
       "        vertical-align: middle;\n",
       "    }\n",
       "\n",
       "    .dataframe tbody tr th {\n",
       "        vertical-align: top;\n",
       "    }\n",
       "\n",
       "    .dataframe thead th {\n",
       "        text-align: right;\n",
       "    }\n",
       "</style>\n",
       "<table border=\"1\" class=\"dataframe\">\n",
       "  <thead>\n",
       "    <tr style=\"text-align: right;\">\n",
       "      <th></th>\n",
       "      <th>Date</th>\n",
       "      <th>Time</th>\n",
       "      <th>Order ID</th>\n",
       "      <th>Customer ID</th>\n",
       "      <th>Coupon Code</th>\n",
       "      <th>Country</th>\n",
       "      <th>Total</th>\n",
       "      <th>Week</th>\n",
       "      <th>Is Exchanged</th>\n",
       "    </tr>\n",
       "  </thead>\n",
       "  <tbody>\n",
       "    <tr>\n",
       "      <th>0</th>\n",
       "      <td>2020-10-01</td>\n",
       "      <td>11:52:28</td>\n",
       "      <td>199652320</td>\n",
       "      <td>69987</td>\n",
       "      <td>NaN</td>\n",
       "      <td>CA</td>\n",
       "      <td>51.549999</td>\n",
       "      <td>40</td>\n",
       "      <td>0</td>\n",
       "    </tr>\n",
       "    <tr>\n",
       "      <th>1</th>\n",
       "      <td>2020-10-01</td>\n",
       "      <td>11:54:52</td>\n",
       "      <td>199652339</td>\n",
       "      <td>56440</td>\n",
       "      <td>NaN</td>\n",
       "      <td>US</td>\n",
       "      <td>50.549999</td>\n",
       "      <td>40</td>\n",
       "      <td>0</td>\n",
       "    </tr>\n",
       "    <tr>\n",
       "      <th>2</th>\n",
       "      <td>2020-10-01</td>\n",
       "      <td>11:57:14</td>\n",
       "      <td>199652338</td>\n",
       "      <td>77646</td>\n",
       "      <td>NaN</td>\n",
       "      <td>US</td>\n",
       "      <td>55.070000</td>\n",
       "      <td>40</td>\n",
       "      <td>0</td>\n",
       "    </tr>\n",
       "    <tr>\n",
       "      <th>3</th>\n",
       "      <td>2020-10-01</td>\n",
       "      <td>11:59:26</td>\n",
       "      <td>199652344</td>\n",
       "      <td>6041</td>\n",
       "      <td>NaN</td>\n",
       "      <td>US</td>\n",
       "      <td>91.199997</td>\n",
       "      <td>40</td>\n",
       "      <td>0</td>\n",
       "    </tr>\n",
       "    <tr>\n",
       "      <th>4</th>\n",
       "      <td>2020-10-01</td>\n",
       "      <td>12:01:58</td>\n",
       "      <td>199625188-1</td>\n",
       "      <td>43125</td>\n",
       "      <td>NaN</td>\n",
       "      <td>US</td>\n",
       "      <td>59.189999</td>\n",
       "      <td>40</td>\n",
       "      <td>1</td>\n",
       "    </tr>\n",
       "  </tbody>\n",
       "</table>\n",
       "</div>"
      ],
      "text/plain": [
       "        Date      Time     Order ID  Customer ID Coupon Code Country  \\\n",
       "0 2020-10-01  11:52:28    199652320        69987         NaN      CA   \n",
       "1 2020-10-01  11:54:52    199652339        56440         NaN      US   \n",
       "2 2020-10-01  11:57:14    199652338        77646         NaN      US   \n",
       "3 2020-10-01  11:59:26    199652344         6041         NaN      US   \n",
       "4 2020-10-01  12:01:58  199625188-1        43125         NaN      US   \n",
       "\n",
       "       Total  Week  Is Exchanged  \n",
       "0  51.549999    40             0  \n",
       "1  50.549999    40             0  \n",
       "2  55.070000    40             0  \n",
       "3  91.199997    40             0  \n",
       "4  59.189999    40             1  "
      ]
     },
     "execution_count": 178,
     "metadata": {},
     "output_type": "execute_result"
    }
   ],
   "source": [
    "df.head()"
   ]
  },
  {
   "cell_type": "code",
   "execution_count": 179,
   "id": "8a559600-642e-428d-a6ef-a02ca5b5e65c",
   "metadata": {},
   "outputs": [
    {
     "name": "stdout",
     "output_type": "stream",
     "text": [
      "<class 'pandas.core.frame.DataFrame'>\n",
      "Index: 64279 entries, 0 to 64283\n",
      "Data columns (total 9 columns):\n",
      " #   Column        Non-Null Count  Dtype         \n",
      "---  ------        --------------  -----         \n",
      " 0   Date          64279 non-null  datetime64[ns]\n",
      " 1   Time          64279 non-null  object        \n",
      " 2   Order ID      64279 non-null  object        \n",
      " 3   Customer ID   64279 non-null  int32         \n",
      " 4   Coupon Code   6244 non-null   category      \n",
      " 5   Country       64279 non-null  category      \n",
      " 6   Total         64279 non-null  float32       \n",
      " 7   Week          64279 non-null  UInt32        \n",
      " 8   Is Exchanged  64279 non-null  int32         \n",
      "dtypes: UInt32(1), category(2), datetime64[ns](1), float32(1), int32(2), object(2)\n",
      "memory usage: 3.2+ MB\n"
     ]
    }
   ],
   "source": [
    "df.info()"
   ]
  },
  {
   "cell_type": "markdown",
   "id": "32b89422-6bef-43df-9332-ceca565e3caf",
   "metadata": {},
   "source": [
    "## 2. Add a column for day of the week"
   ]
  },
  {
   "cell_type": "code",
   "execution_count": 189,
   "id": "45607612-8336-4d51-83bb-f659e5ff45e1",
   "metadata": {},
   "outputs": [
    {
     "data": {
      "text/html": [
       "<div>\n",
       "<style scoped>\n",
       "    .dataframe tbody tr th:only-of-type {\n",
       "        vertical-align: middle;\n",
       "    }\n",
       "\n",
       "    .dataframe tbody tr th {\n",
       "        vertical-align: top;\n",
       "    }\n",
       "\n",
       "    .dataframe thead th {\n",
       "        text-align: right;\n",
       "    }\n",
       "</style>\n",
       "<table border=\"1\" class=\"dataframe\">\n",
       "  <thead>\n",
       "    <tr style=\"text-align: right;\">\n",
       "      <th></th>\n",
       "      <th>Date</th>\n",
       "      <th>Time</th>\n",
       "      <th>Order ID</th>\n",
       "      <th>Customer ID</th>\n",
       "      <th>Coupon Code</th>\n",
       "      <th>Country</th>\n",
       "      <th>Total</th>\n",
       "      <th>Week</th>\n",
       "      <th>Is Exchanged</th>\n",
       "      <th>Is Exchange</th>\n",
       "    </tr>\n",
       "  </thead>\n",
       "  <tbody>\n",
       "    <tr>\n",
       "      <th>0</th>\n",
       "      <td>2020-10-01</td>\n",
       "      <td>11:52:28</td>\n",
       "      <td>199652320</td>\n",
       "      <td>69987</td>\n",
       "      <td>NaN</td>\n",
       "      <td>CA</td>\n",
       "      <td>51.549999</td>\n",
       "      <td>40</td>\n",
       "      <td>0</td>\n",
       "      <td>0</td>\n",
       "    </tr>\n",
       "    <tr>\n",
       "      <th>1</th>\n",
       "      <td>2020-10-01</td>\n",
       "      <td>11:54:52</td>\n",
       "      <td>199652339</td>\n",
       "      <td>56440</td>\n",
       "      <td>NaN</td>\n",
       "      <td>US</td>\n",
       "      <td>50.549999</td>\n",
       "      <td>40</td>\n",
       "      <td>0</td>\n",
       "      <td>0</td>\n",
       "    </tr>\n",
       "    <tr>\n",
       "      <th>2</th>\n",
       "      <td>2020-10-01</td>\n",
       "      <td>11:57:14</td>\n",
       "      <td>199652338</td>\n",
       "      <td>77646</td>\n",
       "      <td>NaN</td>\n",
       "      <td>US</td>\n",
       "      <td>55.070000</td>\n",
       "      <td>40</td>\n",
       "      <td>0</td>\n",
       "      <td>0</td>\n",
       "    </tr>\n",
       "    <tr>\n",
       "      <th>3</th>\n",
       "      <td>2020-10-01</td>\n",
       "      <td>11:59:26</td>\n",
       "      <td>199652344</td>\n",
       "      <td>6041</td>\n",
       "      <td>NaN</td>\n",
       "      <td>US</td>\n",
       "      <td>91.199997</td>\n",
       "      <td>40</td>\n",
       "      <td>0</td>\n",
       "      <td>0</td>\n",
       "    </tr>\n",
       "    <tr>\n",
       "      <th>4</th>\n",
       "      <td>2020-10-01</td>\n",
       "      <td>12:01:58</td>\n",
       "      <td>199625188-1</td>\n",
       "      <td>43125</td>\n",
       "      <td>NaN</td>\n",
       "      <td>US</td>\n",
       "      <td>59.189999</td>\n",
       "      <td>40</td>\n",
       "      <td>1</td>\n",
       "      <td>1</td>\n",
       "    </tr>\n",
       "  </tbody>\n",
       "</table>\n",
       "</div>"
      ],
      "text/plain": [
       "        Date      Time     Order ID  Customer ID Coupon Code Country  \\\n",
       "0 2020-10-01  11:52:28    199652320        69987         NaN      CA   \n",
       "1 2020-10-01  11:54:52    199652339        56440         NaN      US   \n",
       "2 2020-10-01  11:57:14    199652338        77646         NaN      US   \n",
       "3 2020-10-01  11:59:26    199652344         6041         NaN      US   \n",
       "4 2020-10-01  12:01:58  199625188-1        43125         NaN      US   \n",
       "\n",
       "       Total  Week  Is Exchanged  Is Exchange  \n",
       "0  51.549999    40             0            0  \n",
       "1  50.549999    40             0            0  \n",
       "2  55.070000    40             0            0  \n",
       "3  91.199997    40             0            0  \n",
       "4  59.189999    40             1            1  "
      ]
     },
     "execution_count": 189,
     "metadata": {},
     "output_type": "execute_result"
    }
   ],
   "source": [
    "df[\"Week\"] = df[\"Date\"].dt.isocalendar().week\n",
    "\n",
    "df.head()"
   ]
  },
  {
   "cell_type": "markdown",
   "id": "ec7fbd4d-28fb-41cb-a605-42d47f0766b5",
   "metadata": {},
   "source": [
    "## 3. Calculate the exchange rate of all Orders"
   ]
  },
  {
   "cell_type": "markdown",
   "id": "f686a765-d43f-4bb7-8ab4-58bb8e772d2c",
   "metadata": {},
   "source": [
    "Create Is Exchange column to indicate exchange orders"
   ]
  },
  {
   "cell_type": "code",
   "execution_count": 182,
   "id": "69a1da9e-f998-4752-b408-f7abd9e91263",
   "metadata": {},
   "outputs": [
    {
     "data": {
      "text/html": [
       "<div>\n",
       "<style scoped>\n",
       "    .dataframe tbody tr th:only-of-type {\n",
       "        vertical-align: middle;\n",
       "    }\n",
       "\n",
       "    .dataframe tbody tr th {\n",
       "        vertical-align: top;\n",
       "    }\n",
       "\n",
       "    .dataframe thead th {\n",
       "        text-align: right;\n",
       "    }\n",
       "</style>\n",
       "<table border=\"1\" class=\"dataframe\">\n",
       "  <thead>\n",
       "    <tr style=\"text-align: right;\">\n",
       "      <th></th>\n",
       "      <th>Date</th>\n",
       "      <th>Time</th>\n",
       "      <th>Order ID</th>\n",
       "      <th>Customer ID</th>\n",
       "      <th>Coupon Code</th>\n",
       "      <th>Country</th>\n",
       "      <th>Total</th>\n",
       "      <th>Week</th>\n",
       "      <th>Is Exchanged</th>\n",
       "      <th>Is Exchange</th>\n",
       "    </tr>\n",
       "  </thead>\n",
       "  <tbody>\n",
       "    <tr>\n",
       "      <th>0</th>\n",
       "      <td>2020-10-01</td>\n",
       "      <td>11:52:28</td>\n",
       "      <td>199652320</td>\n",
       "      <td>69987</td>\n",
       "      <td>NaN</td>\n",
       "      <td>CA</td>\n",
       "      <td>51.549999</td>\n",
       "      <td>40</td>\n",
       "      <td>0</td>\n",
       "      <td>0</td>\n",
       "    </tr>\n",
       "    <tr>\n",
       "      <th>1</th>\n",
       "      <td>2020-10-01</td>\n",
       "      <td>11:54:52</td>\n",
       "      <td>199652339</td>\n",
       "      <td>56440</td>\n",
       "      <td>NaN</td>\n",
       "      <td>US</td>\n",
       "      <td>50.549999</td>\n",
       "      <td>40</td>\n",
       "      <td>0</td>\n",
       "      <td>0</td>\n",
       "    </tr>\n",
       "    <tr>\n",
       "      <th>2</th>\n",
       "      <td>2020-10-01</td>\n",
       "      <td>11:57:14</td>\n",
       "      <td>199652338</td>\n",
       "      <td>77646</td>\n",
       "      <td>NaN</td>\n",
       "      <td>US</td>\n",
       "      <td>55.070000</td>\n",
       "      <td>40</td>\n",
       "      <td>0</td>\n",
       "      <td>0</td>\n",
       "    </tr>\n",
       "    <tr>\n",
       "      <th>3</th>\n",
       "      <td>2020-10-01</td>\n",
       "      <td>11:59:26</td>\n",
       "      <td>199652344</td>\n",
       "      <td>6041</td>\n",
       "      <td>NaN</td>\n",
       "      <td>US</td>\n",
       "      <td>91.199997</td>\n",
       "      <td>40</td>\n",
       "      <td>0</td>\n",
       "      <td>0</td>\n",
       "    </tr>\n",
       "    <tr>\n",
       "      <th>4</th>\n",
       "      <td>2020-10-01</td>\n",
       "      <td>12:01:58</td>\n",
       "      <td>199625188-1</td>\n",
       "      <td>43125</td>\n",
       "      <td>NaN</td>\n",
       "      <td>US</td>\n",
       "      <td>59.189999</td>\n",
       "      <td>40</td>\n",
       "      <td>1</td>\n",
       "      <td>1</td>\n",
       "    </tr>\n",
       "  </tbody>\n",
       "</table>\n",
       "</div>"
      ],
      "text/plain": [
       "        Date      Time     Order ID  Customer ID Coupon Code Country  \\\n",
       "0 2020-10-01  11:52:28    199652320        69987         NaN      CA   \n",
       "1 2020-10-01  11:54:52    199652339        56440         NaN      US   \n",
       "2 2020-10-01  11:57:14    199652338        77646         NaN      US   \n",
       "3 2020-10-01  11:59:26    199652344         6041         NaN      US   \n",
       "4 2020-10-01  12:01:58  199625188-1        43125         NaN      US   \n",
       "\n",
       "       Total  Week  Is Exchanged  Is Exchange  \n",
       "0  51.549999    40             0            0  \n",
       "1  50.549999    40             0            0  \n",
       "2  55.070000    40             0            0  \n",
       "3  91.199997    40             0            0  \n",
       "4  59.189999    40             1            1  "
      ]
     },
     "execution_count": 182,
     "metadata": {},
     "output_type": "execute_result"
    }
   ],
   "source": [
    "df[\"Is Exchange\"] = df[\"Order ID\"].str.contains(\"-\").astype(int)\n",
    "\n",
    "df.head()"
   ]
  },
  {
   "cell_type": "markdown",
   "id": "7de2e7c3-8983-43b5-8f8b-983e81fd75b6",
   "metadata": {},
   "source": [
    "Calculate the exchange rate"
   ]
  },
  {
   "cell_type": "code",
   "execution_count": 185,
   "id": "b5b658a0-0e5a-4ccd-ad77-771b7b9405f9",
   "metadata": {},
   "outputs": [
    {
     "data": {
      "text/plain": [
       "5.020302120443691"
      ]
     },
     "execution_count": 185,
     "metadata": {},
     "output_type": "execute_result"
    }
   ],
   "source": [
    "number_of_exchanges = df[\"Is Exchange\"].sum()\n",
    "\n",
    "total_orders = df.shape[0]\n",
    "\n",
    "exchange_rate = (number_of_exchanges / total_orders) * 100\n",
    "\n",
    "exchange_rate"
   ]
  },
  {
   "cell_type": "markdown",
   "id": "8e9df826-41cd-45de-a8cd-d706a74aa742",
   "metadata": {},
   "source": [
    "### Exchange rate of all Orders is equal to 5.02%"
   ]
  },
  {
   "cell_type": "markdown",
   "id": "d0fafea5-637a-4a9f-bda5-d78a1129b2a5",
   "metadata": {},
   "source": [
    "## 4. What is the repurchase rate for October Customers?"
   ]
  },
  {
   "cell_type": "markdown",
   "id": "3e8cf561-c63c-4f87-81b0-36743059f510",
   "metadata": {},
   "source": [
    "Get purchases for unique October Customers"
   ]
  },
  {
   "cell_type": "code",
   "execution_count": 217,
   "id": "5602bdc7-afd6-49c3-8cc0-e58f8a1743ae",
   "metadata": {},
   "outputs": [
    {
     "data": {
      "text/html": [
       "<div>\n",
       "<style scoped>\n",
       "    .dataframe tbody tr th:only-of-type {\n",
       "        vertical-align: middle;\n",
       "    }\n",
       "\n",
       "    .dataframe tbody tr th {\n",
       "        vertical-align: top;\n",
       "    }\n",
       "\n",
       "    .dataframe thead th {\n",
       "        text-align: right;\n",
       "    }\n",
       "</style>\n",
       "<table border=\"1\" class=\"dataframe\">\n",
       "  <thead>\n",
       "    <tr style=\"text-align: right;\">\n",
       "      <th></th>\n",
       "      <th>Date</th>\n",
       "      <th>Time</th>\n",
       "      <th>Order ID</th>\n",
       "      <th>Customer ID</th>\n",
       "      <th>Coupon Code</th>\n",
       "      <th>Country</th>\n",
       "      <th>Total</th>\n",
       "      <th>Week</th>\n",
       "      <th>Is Exchanged</th>\n",
       "      <th>Is Exchange</th>\n",
       "    </tr>\n",
       "  </thead>\n",
       "  <tbody>\n",
       "    <tr>\n",
       "      <th>0</th>\n",
       "      <td>2020-10-01</td>\n",
       "      <td>11:52:28</td>\n",
       "      <td>199652320</td>\n",
       "      <td>69987</td>\n",
       "      <td>NaN</td>\n",
       "      <td>CA</td>\n",
       "      <td>51.549999</td>\n",
       "      <td>40</td>\n",
       "      <td>0</td>\n",
       "      <td>0</td>\n",
       "    </tr>\n",
       "    <tr>\n",
       "      <th>1</th>\n",
       "      <td>2020-10-01</td>\n",
       "      <td>11:54:52</td>\n",
       "      <td>199652339</td>\n",
       "      <td>56440</td>\n",
       "      <td>NaN</td>\n",
       "      <td>US</td>\n",
       "      <td>50.549999</td>\n",
       "      <td>40</td>\n",
       "      <td>0</td>\n",
       "      <td>0</td>\n",
       "    </tr>\n",
       "    <tr>\n",
       "      <th>2</th>\n",
       "      <td>2020-10-01</td>\n",
       "      <td>11:57:14</td>\n",
       "      <td>199652338</td>\n",
       "      <td>77646</td>\n",
       "      <td>NaN</td>\n",
       "      <td>US</td>\n",
       "      <td>55.070000</td>\n",
       "      <td>40</td>\n",
       "      <td>0</td>\n",
       "      <td>0</td>\n",
       "    </tr>\n",
       "  </tbody>\n",
       "</table>\n",
       "</div>"
      ],
      "text/plain": [
       "        Date      Time   Order ID  Customer ID Coupon Code Country      Total  \\\n",
       "0 2020-10-01  11:52:28  199652320        69987         NaN      CA  51.549999   \n",
       "1 2020-10-01  11:54:52  199652339        56440         NaN      US  50.549999   \n",
       "2 2020-10-01  11:57:14  199652338        77646         NaN      US  55.070000   \n",
       "\n",
       "   Week  Is Exchanged  Is Exchange  \n",
       "0    40             0            0  \n",
       "1    40             0            0  \n",
       "2    40             0            0  "
      ]
     },
     "execution_count": 217,
     "metadata": {},
     "output_type": "execute_result"
    }
   ],
   "source": [
    "oct_df = df[df[\"Date\"].dt.month == 10]\n",
    "\n",
    "oct_customers = oct_df[\"Customer ID\"].unique()\n",
    "\n",
    "oct_purchases_df = df[df[\"Customer ID\"].isin(october_customers)]\n",
    "\n",
    "oct_purchases_df.head(3)"
   ]
  },
  {
   "cell_type": "markdown",
   "id": "43a55318-6d13-4362-b264-fe93c6b02baf",
   "metadata": {},
   "source": [
    "Calculate repurchase rate for October Customers"
   ]
  },
  {
   "cell_type": "code",
   "execution_count": 215,
   "id": "0fbc899b-f035-4df5-9652-4c98586deb34",
   "metadata": {},
   "outputs": [
    {
     "data": {
      "text/plain": [
       "11.21231925496283"
      ]
     },
     "execution_count": 215,
     "metadata": {},
     "output_type": "execute_result"
    }
   ],
   "source": [
    "oct_repurchase_df = oct_purchases_df[\"Customer ID\"].value_counts()\n",
    "oct_repurchasers = oct_repurchase_df[oct_repurchase_df > 1].index  # Customers who purchased more than once\n",
    "\n",
    "oct_customers_repurchase_rate = len(oct_repurchasers) / len(oct_customers) * 100\n",
    "\n",
    "oct_customers_repurchase_rate"
   ]
  },
  {
   "cell_type": "markdown",
   "id": "964e454a-cf18-4192-9cf1-ea4f063fdff4",
   "metadata": {},
   "source": [
    "### Repurchase rate for October Customers is equal to 11.21%"
   ]
  },
  {
   "cell_type": "markdown",
   "id": "442b9407-9c61-44ba-b3dc-303b639649f6",
   "metadata": {},
   "source": [
    "## 5. Who is using more coupon codes, US or Canadian customers?"
   ]
  },
  {
   "cell_type": "code",
   "execution_count": 220,
   "id": "ecdbcd5a-f661-4b49-8cf4-b347d83aed15",
   "metadata": {},
   "outputs": [
    {
     "name": "stdout",
     "output_type": "stream",
     "text": [
      "<class 'pandas.core.frame.DataFrame'>\n",
      "Index: 6244 entries, 19 to 64283\n",
      "Data columns (total 10 columns):\n",
      " #   Column        Non-Null Count  Dtype         \n",
      "---  ------        --------------  -----         \n",
      " 0   Date          6244 non-null   datetime64[ns]\n",
      " 1   Time          6244 non-null   object        \n",
      " 2   Order ID      6244 non-null   object        \n",
      " 3   Customer ID   6244 non-null   int32         \n",
      " 4   Coupon Code   6244 non-null   category      \n",
      " 5   Country       6244 non-null   category      \n",
      " 6   Total         6244 non-null   float32       \n",
      " 7   Week          6244 non-null   UInt32        \n",
      " 8   Is Exchanged  6244 non-null   int32         \n",
      " 9   Is Exchange   6244 non-null   int32         \n",
      "dtypes: UInt32(1), category(2), datetime64[ns](1), float32(1), int32(3), object(2)\n",
      "memory usage: 351.3+ KB\n"
     ]
    }
   ],
   "source": [
    "coupon_df = df[df[\"Coupon Code\"].notnull()]\n",
    "\n",
    "coupon_df.info()"
   ]
  },
  {
   "cell_type": "code",
   "execution_count": 223,
   "id": "30f5c137-f4ee-42fc-8a1f-9adaa1f98af8",
   "metadata": {},
   "outputs": [
    {
     "data": {
      "text/plain": [
       "Country\n",
       "US    5603\n",
       "CA     641\n",
       "Name: count, dtype: int64"
      ]
     },
     "execution_count": 223,
     "metadata": {},
     "output_type": "execute_result"
    }
   ],
   "source": [
    "country_coupon_usage = coupon_df[\"Country\"].value_counts()\n",
    "\n",
    "country_coupon_usage"
   ]
  },
  {
   "cell_type": "markdown",
   "id": "ff1487c2-db4e-43b4-86d3-3b07872b8d31",
   "metadata": {},
   "source": [
    "US customers used 5603 coupons.\n",
    "Canadian customers used 641 coupons.\n",
    "\n",
    "### US customers use more coupon codes then Canadian."
   ]
  },
  {
   "cell_type": "markdown",
   "id": "e803b0dc-8486-429c-bac7-4d6c62a44304",
   "metadata": {},
   "source": [
    "## 6. Possible Explanations:\n",
    "1. **Location**. IL Makiage company is located in the New York, so the delivery will be faster and cheeper for the citizens of US due to various customs restrictions. The delivery could be also much faster. That's why US customers are tended to make more purchases and more likely to respond to our marketing.\n",
    "2. **Time on the market**. For the reason of company location, I suggest company was longer on a domestic market. That's why US customers can have more confidence in the company.\n",
    "3. **Strategic Focus**. A US company might prioritize its domestic market in terms of marketing investment and strategic focus. This could include more frequent or more appealing promotions, including coupon codes, targeted at US customers. At the same time, the approach in Canada might be less aggressive or developed, possibly due to fewer resources allocated to understanding and capturing market nuances there.\n",
    "4. **Local Market Familiarity**. Being a US-based company could mean that the company has deeper insights and a more established presence in the US market compared to Canada. This familiarity can lead to more effective marketing strategies, including the use of coupon codes, which are better aligned with US consumer behaviors and preferences.\n",
    "5. **Cultural Differences**: Purchase of makeup products may be related to the extent to which Canadians and US citizens are inclined to use them. Probably US residents are more likely to buy such products and that there is a greater demand for them in Canada."
   ]
  },
  {
   "cell_type": "markdown",
   "id": "5fc638a1-3def-4722-8442-efb31932ea0e",
   "metadata": {},
   "source": [
    "## 7. Choose 2 possible reasons from the ones mentioned above. What data will be needed to examine each hypothesis\n",
    "\n",
    "### 1. Strategic Focus\n",
    "**Data Needed:**\n",
    "1. Marketing Budget Allocation: Examine how the marketing budget is distributed between the US and Canadian markets. This includes funds allocated to promotions, advertising, and coupon campaigns.\n",
    "2. Campaign Performance Data: Collect data on the performance of marketing campaigns in both countries. Metrics to consider include engagement rates, conversion rates, and ROI from campaigns that involved coupon codes.\n",
    "3. Internal Strategy Documents: Review strategic planning documents that outline market priorities and resource allocation. This can provide insights into whether there is a deliberate focus on the US market over Canada.\n",
    "\n",
    "### 2. Local Market Familiarity\n",
    "**Data Needed:**\n",
    "1. Sales and Customer Data: Review sales data and customer demographics/psychographics for insights into market penetration and customer profiles in both countries.\n",
    "2. Market Research Reports: Obtain comprehensive market research reports for both the US and Canadian markets. These should provide insights into consumer behavior, preferences, and attitudes towards promotions such as coupons.\n",
    "3. Customer Feedback: Analyze customer feedback and survey data from both markets. This could reveal how well the company understands and meets the needs and expectations of customers in each region."
   ]
  },
  {
   "cell_type": "code",
   "execution_count": null,
   "id": "cdfa97fb-03a7-40cc-859f-109d76464f9a",
   "metadata": {},
   "outputs": [],
   "source": []
  }
 ],
 "metadata": {
  "kernelspec": {
   "display_name": "Python 3 (ipykernel)",
   "language": "python",
   "name": "python3"
  },
  "language_info": {
   "codemirror_mode": {
    "name": "ipython",
    "version": 3
   },
   "file_extension": ".py",
   "mimetype": "text/x-python",
   "name": "python",
   "nbconvert_exporter": "python",
   "pygments_lexer": "ipython3",
   "version": "3.12.2"
  }
 },
 "nbformat": 4,
 "nbformat_minor": 5
}
